{
 "cells": [
  {
   "cell_type": "markdown",
   "metadata": {},
   "source": [
    "##1 Series##"
   ]
  },
  {
   "cell_type": "code",
   "execution_count": 7,
   "metadata": {},
   "outputs": [],
   "source": [
    "import numpy as np \n",
    "import pandas as pd \n",
    "##IMPORTAMOS NUMPY Y PANDAS\n"
   ]
  },
  {
   "cell_type": "code",
   "execution_count": 10,
   "metadata": {},
   "outputs": [],
   "source": [
    "titulos = [\"Toy Story 4\", \"Los Incríbles 2\", \"Buscando a Dory\", \"Toy Story 3\", \"Caco\", \"Inside Out\", \"Monsters University\", \"Casino Royale\"]\n",
    "fecha_lanzamiento = [2015,2018,2016,2010,2017,2015,2013,2006]                           \n",
    "recaudaciones = [1073,1242,1029,1067,807,857,744,735]\n",
    "espectadores = [74.91,93.42,76.72,81.35,62.75,68.27,54.74,54.34]\n",
    "                               ##CREADAS LAS 4 LISTAS "
   ]
  },
  {
   "cell_type": "code",
   "execution_count": 11,
   "metadata": {},
   "outputs": [],
   "source": [
    "serie_fecha_lanzamiento = pd.Series(fecha_lanzamiento, index = titulos, name = \" fecha lanzamiento\")\n",
    "serie_recaudaciones = pd.Series(recaudaciones, index = titulos, name = \"recaudaciones\")\n",
    "serie_espectadores = pd.Series(espectadores, index = titulos, name = \"espectadores\") ##Creadas las 3 series "
   ]
  },
  {
   "cell_type": "code",
   "execution_count": 16,
   "metadata": {},
   "outputs": [
    {
     "name": "stdout",
     "output_type": "stream",
     "text": [
      "Los Incríbles 2        1242\n",
      "Toy Story 4            1073\n",
      "Toy Story 3            1067\n",
      "Buscando a Dory        1029\n",
      "Inside Out              857\n",
      "Caco                    807\n",
      "Monsters University     744\n",
      "Casino Royale           735\n",
      "Name: recaudaciones, dtype: int64\n"
     ]
    }
   ],
   "source": [
    "recaudaciones_ordenadas = serie_recaudaciones.sort_values(ascending= False)\n",
    "print(recaudaciones_ordenadas) ## Con metodo sort value ordenamos la serie de recaudaciones de mayor a menor"
   ]
  },
  {
   "cell_type": "code",
   "execution_count": 25,
   "metadata": {},
   "outputs": [
    {
     "name": "stdout",
     "output_type": "stream",
     "text": [
      "Toy Story 4: Es del 2015, recaudó 1073 millones, y tuvo 74.91 millones de espectadores, 14.32 por entrada\n",
      "Los Incríbles 2: Es del 2018, recaudó 1242 millones, y tuvo 93.42 millones de espectadores, 13.29 por entrada\n",
      "Buscando a Dory: Es del 2016, recaudó 1029 millones, y tuvo 76.72 millones de espectadores, 13.41 por entrada\n",
      "Toy Story 3: Es del 2010, recaudó 1067 millones, y tuvo 81.35 millones de espectadores, 13.12 por entrada\n",
      "Caco: Es del 2017, recaudó 807 millones, y tuvo 62.75 millones de espectadores, 12.86 por entrada\n",
      "Inside Out: Es del 2015, recaudó 857 millones, y tuvo 68.27 millones de espectadores, 12.55 por entrada\n",
      "Monsters University: Es del 2013, recaudó 744 millones, y tuvo 54.74 millones de espectadores, 13.59 por entrada\n",
      "Casino Royale: Es del 2006, recaudó 735 millones, y tuvo 54.34 millones de espectadores, 13.53 por entrada\n"
     ]
    }
   ],
   "source": [
    "for titulo,recaudacion in serie_recaudaciones.items():\n",
    "    fecha_lanzamiento = serie_fecha_lanzamiento[titulo]\n",
    "    espectadores = serie_espectadores[titulo]\n",
    "    precio_entrada = round(recaudacion/espectadores,2)\n",
    "    print(f\"{titulo}: Es del {fecha_lanzamiento}, recaudó {recaudacion} millones, y tuvo {espectadores} millones de espectadores, {precio_entrada} por entrada\") ##Creamos el bucle que recorre la serie recaudaciones para mostrar los distintos apartados por cada titulo"
   ]
  },
  {
   "cell_type": "code",
   "execution_count": 27,
   "metadata": {},
   "outputs": [
    {
     "name": "stdout",
     "output_type": "stream",
     "text": [
      "Toy Story 4            14.323855\n",
      "Los Incríbles 2        13.294798\n",
      "Buscando a Dory        13.412409\n",
      "Toy Story 3            13.116165\n",
      "Caco                   12.860558\n",
      "Inside Out             12.553098\n",
      "Monsters University    13.591524\n",
      "Casino Royale          13.525948\n",
      "dtype: float64\n"
     ]
    }
   ],
   "source": [
    "serie_precio_medio_entrada = serie_recaudaciones/serie_espectadores\n",
    "print(serie_precio_medio_entrada) ##calculamos el precio medio de entrada y imprimimos"
   ]
  },
  {
   "cell_type": "code",
   "execution_count": 31,
   "metadata": {},
   "outputs": [
    {
     "name": "stdout",
     "output_type": "stream",
     "text": [
      "Casino Royale\n",
      "Casino Royale es la que menos recaudó y salió en 2006\n"
     ]
    },
    {
     "name": "stderr",
     "output_type": "stream",
     "text": [
      "C:\\Users\\alvar\\AppData\\Local\\Temp\\ipykernel_34772\\893001755.py:3: FutureWarning: Series.__getitem__ treating keys as positions is deprecated. In a future version, integer keys will always be treated as labels (consistent with DataFrame behavior). To access a value by position, use `ser.iloc[pos]`\n",
      "  anyo_menor = serie_fecha_lanzamiento[serie_recaudaciones.index.get_loc(pelicula_menor_recaudacion)]\n"
     ]
    }
   ],
   "source": [
    "pelicula_menor_recaudacion = serie_recaudaciones.idxmin() ##con la variable idxmin en la serie recaudaciones obtenemos la pelicula con menos recaudacion \n",
    "print(pelicula_menor_recaudacion)##imprimimos\n",
    "anyo_menor = serie_fecha_lanzamiento[serie_recaudaciones.index.get_loc(pelicula_menor_recaudacion)]\n",
    "print(f\"{pelicula_menor_recaudacion} es la que menos recaudó y salió en {anyo_menor}\")"
   ]
  },
  {
   "cell_type": "code",
   "execution_count": 32,
   "metadata": {},
   "outputs": [
    {
     "name": "stdout",
     "output_type": "stream",
     "text": [
      "Toy Story 4             True\n",
      "Los Incríbles 2        False\n",
      "Buscando a Dory        False\n",
      "Toy Story 3            False\n",
      "Caco                   False\n",
      "Inside Out             False\n",
      "Monsters University    False\n",
      "Casino Royale          False\n",
      "dtype: bool\n",
      "Toy Story 4\n"
     ]
    }
   ],
   "source": [
    "rango_pelicula = (serie_recaudaciones > 1000) & (serie_espectadores < 75)## filtramos las recaudaciones de la serie para mas de 1000 y la la serie espectadores para menos de 75\n",
    "print(rango_pelicula)\n",
    "pelicula_elegida = serie_recaudaciones[(serie_recaudaciones > 1000) & (serie_espectadores < 75)].idxmax()\n",
    "print(pelicula_elegida)"
   ]
  },
  {
   "cell_type": "code",
   "execution_count": 34,
   "metadata": {},
   "outputs": [
    {
     "name": "stdout",
     "output_type": "stream",
     "text": [
      "Toy Story 4            22\n",
      "Los Incríbles 2        25\n",
      "Buscando a Dory        23\n",
      "Toy Story 3            17\n",
      "Caco                   24\n",
      "Inside Out             22\n",
      "Monsters University    20\n",
      "Casino Royale          13\n",
      "Name:  fecha lanzamiento, dtype: int64\n"
     ]
    }
   ],
   "source": [
    "edad_gonzalo = 30 #creamos la variable de la edad de gonzalo \n",
    "edad_gonzalo_en_estreno = edad_gonzalo - (2023 - serie_fecha_lanzamiento) #variable para calcular su edad en cada estreno(edad-(actual-cada año de lanzamiento en la serie))\n",
    "print(edad_gonzalo_en_estreno)"
   ]
  },
  {
   "cell_type": "code",
   "execution_count": 38,
   "metadata": {},
   "outputs": [
    {
     "name": "stdout",
     "output_type": "stream",
     "text": [
      "Los Increíbles 2       1242\n",
      "Toy Story 4            1073\n",
      "Toy Story 3            1067\n",
      "Buscando a Dory        1029\n",
      "Inside Out              857\n",
      "Coco                    807\n",
      "Monsters University     744\n",
      "Casino Royale           735\n",
      "dtype: int64 Toy Story 4            2019\n",
      "Los Increíbles 2       2018\n",
      "Buscando a Dory        2016\n",
      "Toy Story 3            2010\n",
      "Coco                   2017\n",
      "Inside Out             2015\n",
      "Monsters University    2013\n",
      "Casino Royale          2009\n",
      "Name:  fecha lanzamiento, dtype: int64\n"
     ]
    }
   ],
   "source": [
    "serie_fecha_lanzamiento[\"Toy Story 4\"]  = 2019\n",
    "serie_fecha_lanzamiento[\"Casino Royale\"] = 2009\n",
    "serie_recaudaciones[\"Monsters University\"] = 754 ##corregimos en cada serie su apartado indicado el titulo y el nuevo dato\n",
    "titulos_corregidos = [titulo.replace(\"Caco\",\"Coco\").replace(\"Incríbles\",\"Increíbles\") for titulo in titulos] #corregimos el nombre de los titulos\n",
    "serie_recaudaciones = pd.Series(recaudaciones, index = titulos_corregidos).sort_values(ascending = False) #volvemos a modificar la serie recaudaciones para que guarde los datos\n",
    "serie_espectadores.index = titulos_corregidos\n",
    "serie_fecha_lanzamiento.index = titulos_corregidos\n",
    "print(serie_recaudaciones,serie_fecha_lanzamiento)"
   ]
  },
  {
   "cell_type": "markdown",
   "metadata": {},
   "source": [
    "## PARTE 2 DATA FRAMES ##"
   ]
  },
  {
   "cell_type": "code",
   "execution_count": 39,
   "metadata": {},
   "outputs": [
    {
     "data": {
      "text/html": [
       "<div>\n",
       "<style scoped>\n",
       "    .dataframe tbody tr th:only-of-type {\n",
       "        vertical-align: middle;\n",
       "    }\n",
       "\n",
       "    .dataframe tbody tr th {\n",
       "        vertical-align: top;\n",
       "    }\n",
       "\n",
       "    .dataframe thead th {\n",
       "        text-align: right;\n",
       "    }\n",
       "</style>\n",
       "<table border=\"1\" class=\"dataframe\">\n",
       "  <thead>\n",
       "    <tr style=\"text-align: right;\">\n",
       "      <th></th>\n",
       "      <th>Entradas</th>\n",
       "    </tr>\n",
       "  </thead>\n",
       "  <tbody>\n",
       "    <tr>\n",
       "      <th>Toy Story 4</th>\n",
       "      <td>13.41</td>\n",
       "    </tr>\n",
       "    <tr>\n",
       "      <th>Los Increíbles 2</th>\n",
       "      <td>13.53</td>\n",
       "    </tr>\n",
       "    <tr>\n",
       "      <th>Buscando a Dory</th>\n",
       "      <td>12.86</td>\n",
       "    </tr>\n",
       "    <tr>\n",
       "      <th>Toy Story 3</th>\n",
       "      <td>12.55</td>\n",
       "    </tr>\n",
       "    <tr>\n",
       "      <th>Coco</th>\n",
       "      <td>13.29</td>\n",
       "    </tr>\n",
       "    <tr>\n",
       "      <th>Inside Out</th>\n",
       "      <td>13.59</td>\n",
       "    </tr>\n",
       "    <tr>\n",
       "      <th>Monsters University</th>\n",
       "      <td>13.12</td>\n",
       "    </tr>\n",
       "    <tr>\n",
       "      <th>Casino Royale</th>\n",
       "      <td>14.32</td>\n",
       "    </tr>\n",
       "  </tbody>\n",
       "</table>\n",
       "</div>"
      ],
      "text/plain": [
       "                     Entradas\n",
       "Toy Story 4             13.41\n",
       "Los Increíbles 2        13.53\n",
       "Buscando a Dory         12.86\n",
       "Toy Story 3             12.55\n",
       "Coco                    13.29\n",
       "Inside Out              13.59\n",
       "Monsters University     13.12\n",
       "Casino Royale           14.32"
      ]
     },
     "execution_count": 39,
     "metadata": {},
     "output_type": "execute_result"
    }
   ],
   "source": [
    "precio = round(serie_recaudaciones/serie_espectadores,2)#redondemos el precio medio de entrada creado anteriormente a dos decimales\n",
    "precio_medio_entrada = np.array(precio)\n",
    "precio_medio_entrada  = pd.DataFrame(precio_medio_entrada, columns = [\"Entradas\"], index = titulos_corregidos)\n",
    "precio_medio_entrada"
   ]
  },
  {
   "cell_type": "code",
   "execution_count": 46,
   "metadata": {},
   "outputs": [
    {
     "name": "stdout",
     "output_type": "stream",
     "text": [
      "                     lanzamiento  recaudacion  espectadores\n",
      "Buscando a Dory             2016         1029         76.72\n",
      "Casino Royale               2009          735         54.34\n",
      "Coco                        2017          807         62.75\n",
      "Inside Out                  2015          857         68.27\n",
      "Los Increíbles 2            2018         1242         93.42\n",
      "Monsters University         2013          744         54.74\n",
      "Toy Story 3                 2010         1067         81.35\n",
      "Toy Story 4                 2019         1073         74.91\n",
      "la pelicula con más de 10 años:                lanzamiento  recaudacion  espectadores\n",
      "Casino Royale         2009          735         54.34\n",
      "Toy Story 3           2010         1067         81.35\n"
     ]
    },
    {
     "data": {
      "text/plain": [
       "Buscando a Dory        False\n",
       "Casino Royale           True\n",
       "Coco                   False\n",
       "Inside Out             False\n",
       "Los Increíbles 2       False\n",
       "Monsters University    False\n",
       "Toy Story 3             True\n",
       "Toy Story 4            False\n",
       "Name: lanzamiento, dtype: bool"
      ]
     },
     "execution_count": 46,
     "metadata": {},
     "output_type": "execute_result"
    }
   ],
   "source": [
    "data = { \"lanzamiento\": serie_fecha_lanzamiento, \"recaudacion\": serie_recaudaciones, \"espectadores\": serie_espectadores} ## para crear las columnas del data frame\n",
    "dataframe = pd.DataFrame(data)##creamos el data frame\n",
    "print(dataframe)\n",
    "anyo_actual = 2023\n",
    "antiguedad = 10\n",
    "pelicula_10_anyo = dataframe[dataframe[\"lanzamiento\"] < anyo_actual - antiguedad] ##con booleano que diga true o false con las que sean mas antiguas de 10 años\n",
    "print(f\"la pelicula con más de 10 años: {pelicula_10_anyo}\")\n",
    "\n",
    "dataframe[\"lanzamiento\"] < anyo_actual - antiguedad"
   ]
  },
  {
   "cell_type": "code",
   "execution_count": 47,
   "metadata": {},
   "outputs": [
    {
     "data": {
      "text/html": [
       "<div>\n",
       "<style scoped>\n",
       "    .dataframe tbody tr th:only-of-type {\n",
       "        vertical-align: middle;\n",
       "    }\n",
       "\n",
       "    .dataframe tbody tr th {\n",
       "        vertical-align: top;\n",
       "    }\n",
       "\n",
       "    .dataframe thead th {\n",
       "        text-align: right;\n",
       "    }\n",
       "</style>\n",
       "<table border=\"1\" class=\"dataframe\">\n",
       "  <thead>\n",
       "    <tr style=\"text-align: right;\">\n",
       "      <th></th>\n",
       "      <th>lanzamiento</th>\n",
       "      <th>recaudacion</th>\n",
       "      <th>espectadores</th>\n",
       "    </tr>\n",
       "  </thead>\n",
       "  <tbody>\n",
       "    <tr>\n",
       "      <th>Buscando a Dory</th>\n",
       "      <td>2016</td>\n",
       "      <td>1029</td>\n",
       "      <td>76.72</td>\n",
       "    </tr>\n",
       "    <tr>\n",
       "      <th>Inside Out</th>\n",
       "      <td>2015</td>\n",
       "      <td>857</td>\n",
       "      <td>68.27</td>\n",
       "    </tr>\n",
       "    <tr>\n",
       "      <th>Los Increíbles 2</th>\n",
       "      <td>2018</td>\n",
       "      <td>1242</td>\n",
       "      <td>93.42</td>\n",
       "    </tr>\n",
       "    <tr>\n",
       "      <th>Toy Story 3</th>\n",
       "      <td>2010</td>\n",
       "      <td>1067</td>\n",
       "      <td>81.35</td>\n",
       "    </tr>\n",
       "    <tr>\n",
       "      <th>Toy Story 4</th>\n",
       "      <td>2019</td>\n",
       "      <td>1073</td>\n",
       "      <td>74.91</td>\n",
       "    </tr>\n",
       "  </tbody>\n",
       "</table>\n",
       "</div>"
      ],
      "text/plain": [
       "                  lanzamiento  recaudacion  espectadores\n",
       "Buscando a Dory          2016         1029         76.72\n",
       "Inside Out               2015          857         68.27\n",
       "Los Increíbles 2         2018         1242         93.42\n",
       "Toy Story 3              2010         1067         81.35\n",
       "Toy Story 4              2019         1073         74.91"
      ]
     },
     "execution_count": 47,
     "metadata": {},
     "output_type": "execute_result"
    }
   ],
   "source": [
    "peliculas_mas_65_mas_800 = df[(df[\"espectadores\"] > 65) & (df[\"recaudacion\"] > 800)] ##data drame con las peliculas solo con mas de 65 millines de espectadores y 800 millones de recaudacion\n",
    "peliculas_mas_65_mas_800"
   ]
  },
  {
   "cell_type": "code",
   "execution_count": 48,
   "metadata": {},
   "outputs": [],
   "source": [
    "df[\"Ingreso_por_espectador\"] = df.recaudacion/df.espectadores ##añadimos la columna ingreso por espactador en el data frame"
   ]
  },
  {
   "cell_type": "code",
   "execution_count": 51,
   "metadata": {},
   "outputs": [
    {
     "data": {
      "text/html": [
       "<div>\n",
       "<style scoped>\n",
       "    .dataframe tbody tr th:only-of-type {\n",
       "        vertical-align: middle;\n",
       "    }\n",
       "\n",
       "    .dataframe tbody tr th {\n",
       "        vertical-align: top;\n",
       "    }\n",
       "\n",
       "    .dataframe thead th {\n",
       "        text-align: right;\n",
       "    }\n",
       "</style>\n",
       "<table border=\"1\" class=\"dataframe\">\n",
       "  <thead>\n",
       "    <tr style=\"text-align: right;\">\n",
       "      <th></th>\n",
       "      <th>lanzamiento</th>\n",
       "      <th>recaudacion</th>\n",
       "      <th>espectadores</th>\n",
       "      <th>Ingreso_por_espectador</th>\n",
       "    </tr>\n",
       "  </thead>\n",
       "  <tbody>\n",
       "    <tr>\n",
       "      <th>Buscando a Dory</th>\n",
       "      <td>2016</td>\n",
       "      <td>1029</td>\n",
       "      <td>76.72</td>\n",
       "      <td>13.412409</td>\n",
       "    </tr>\n",
       "    <tr>\n",
       "      <th>Casino Royale</th>\n",
       "      <td>2009</td>\n",
       "      <td>735</td>\n",
       "      <td>54.34</td>\n",
       "      <td>13.525948</td>\n",
       "    </tr>\n",
       "    <tr>\n",
       "      <th>Coco</th>\n",
       "      <td>2017</td>\n",
       "      <td>807</td>\n",
       "      <td>62.75</td>\n",
       "      <td>12.860558</td>\n",
       "    </tr>\n",
       "    <tr>\n",
       "      <th>Inside Out</th>\n",
       "      <td>2015</td>\n",
       "      <td>857</td>\n",
       "      <td>68.27</td>\n",
       "      <td>12.553098</td>\n",
       "    </tr>\n",
       "    <tr>\n",
       "      <th>Los Increíbles 2</th>\n",
       "      <td>2018</td>\n",
       "      <td>1242</td>\n",
       "      <td>93.42</td>\n",
       "      <td>13.294798</td>\n",
       "    </tr>\n",
       "    <tr>\n",
       "      <th>Monsters University</th>\n",
       "      <td>2013</td>\n",
       "      <td>744</td>\n",
       "      <td>54.74</td>\n",
       "      <td>13.591524</td>\n",
       "    </tr>\n",
       "    <tr>\n",
       "      <th>Toy Story 3</th>\n",
       "      <td>2010</td>\n",
       "      <td>1067</td>\n",
       "      <td>81.35</td>\n",
       "      <td>13.116165</td>\n",
       "    </tr>\n",
       "    <tr>\n",
       "      <th>Toy Story 4</th>\n",
       "      <td>2019</td>\n",
       "      <td>1073</td>\n",
       "      <td>74.91</td>\n",
       "      <td>14.323855</td>\n",
       "    </tr>\n",
       "  </tbody>\n",
       "</table>\n",
       "</div>"
      ],
      "text/plain": [
       "                     lanzamiento  recaudacion  espectadores  \\\n",
       "Buscando a Dory             2016         1029         76.72   \n",
       "Casino Royale               2009          735         54.34   \n",
       "Coco                        2017          807         62.75   \n",
       "Inside Out                  2015          857         68.27   \n",
       "Los Increíbles 2            2018         1242         93.42   \n",
       "Monsters University         2013          744         54.74   \n",
       "Toy Story 3                 2010         1067         81.35   \n",
       "Toy Story 4                 2019         1073         74.91   \n",
       "\n",
       "                     Ingreso_por_espectador  \n",
       "Buscando a Dory                   13.412409  \n",
       "Casino Royale                     13.525948  \n",
       "Coco                              12.860558  \n",
       "Inside Out                        12.553098  \n",
       "Los Increíbles 2                  13.294798  \n",
       "Monsters University               13.591524  \n",
       "Toy Story 3                       13.116165  \n",
       "Toy Story 4                       14.323855  "
      ]
     },
     "metadata": {},
     "output_type": "display_data"
    }
   ],
   "source": [
    "display(df) ## la mostramos con display(si lo hiciemos con print no saldria bien)"
   ]
  },
  {
   "cell_type": "code",
   "execution_count": 52,
   "metadata": {},
   "outputs": [
    {
     "data": {
      "text/html": [
       "<div>\n",
       "<style scoped>\n",
       "    .dataframe tbody tr th:only-of-type {\n",
       "        vertical-align: middle;\n",
       "    }\n",
       "\n",
       "    .dataframe tbody tr th {\n",
       "        vertical-align: top;\n",
       "    }\n",
       "\n",
       "    .dataframe thead th {\n",
       "        text-align: right;\n",
       "    }\n",
       "</style>\n",
       "<table border=\"1\" class=\"dataframe\">\n",
       "  <thead>\n",
       "    <tr style=\"text-align: right;\">\n",
       "      <th></th>\n",
       "      <th>lanzamiento</th>\n",
       "      <th>recaudacion</th>\n",
       "      <th>espectadores</th>\n",
       "      <th>Ingreso_por_espectador</th>\n",
       "    </tr>\n",
       "  </thead>\n",
       "  <tbody>\n",
       "    <tr>\n",
       "      <th>Casino Royale</th>\n",
       "      <td>2009</td>\n",
       "      <td>735</td>\n",
       "      <td>54.34</td>\n",
       "      <td>13.525948</td>\n",
       "    </tr>\n",
       "    <tr>\n",
       "      <th>Toy Story 3</th>\n",
       "      <td>2010</td>\n",
       "      <td>1067</td>\n",
       "      <td>81.35</td>\n",
       "      <td>13.116165</td>\n",
       "    </tr>\n",
       "    <tr>\n",
       "      <th>Monsters University</th>\n",
       "      <td>2013</td>\n",
       "      <td>744</td>\n",
       "      <td>54.74</td>\n",
       "      <td>13.591524</td>\n",
       "    </tr>\n",
       "    <tr>\n",
       "      <th>Inside Out</th>\n",
       "      <td>2015</td>\n",
       "      <td>857</td>\n",
       "      <td>68.27</td>\n",
       "      <td>12.553098</td>\n",
       "    </tr>\n",
       "    <tr>\n",
       "      <th>Buscando a Dory</th>\n",
       "      <td>2016</td>\n",
       "      <td>1029</td>\n",
       "      <td>76.72</td>\n",
       "      <td>13.412409</td>\n",
       "    </tr>\n",
       "    <tr>\n",
       "      <th>Coco</th>\n",
       "      <td>2017</td>\n",
       "      <td>807</td>\n",
       "      <td>62.75</td>\n",
       "      <td>12.860558</td>\n",
       "    </tr>\n",
       "    <tr>\n",
       "      <th>Los Increíbles 2</th>\n",
       "      <td>2018</td>\n",
       "      <td>1242</td>\n",
       "      <td>93.42</td>\n",
       "      <td>13.294798</td>\n",
       "    </tr>\n",
       "    <tr>\n",
       "      <th>Toy Story 4</th>\n",
       "      <td>2019</td>\n",
       "      <td>1073</td>\n",
       "      <td>74.91</td>\n",
       "      <td>14.323855</td>\n",
       "    </tr>\n",
       "  </tbody>\n",
       "</table>\n",
       "</div>"
      ],
      "text/plain": [
       "                     lanzamiento  recaudacion  espectadores  \\\n",
       "Casino Royale               2009          735         54.34   \n",
       "Toy Story 3                 2010         1067         81.35   \n",
       "Monsters University         2013          744         54.74   \n",
       "Inside Out                  2015          857         68.27   \n",
       "Buscando a Dory             2016         1029         76.72   \n",
       "Coco                        2017          807         62.75   \n",
       "Los Increíbles 2            2018         1242         93.42   \n",
       "Toy Story 4                 2019         1073         74.91   \n",
       "\n",
       "                     Ingreso_por_espectador  \n",
       "Casino Royale                     13.525948  \n",
       "Toy Story 3                       13.116165  \n",
       "Monsters University               13.591524  \n",
       "Inside Out                        12.553098  \n",
       "Buscando a Dory                   13.412409  \n",
       "Coco                              12.860558  \n",
       "Los Increíbles 2                  13.294798  \n",
       "Toy Story 4                       14.323855  "
      ]
     },
     "execution_count": 52,
     "metadata": {},
     "output_type": "execute_result"
    }
   ],
   "source": [
    "df_ordenado = df.sort_values(by = \"lanzamiento\") ##hacemos dataframe ordenado por añao de lanzamiento de mas antiguo a mas nuevo\n",
    "df_ordenado\n"
   ]
  },
  {
   "cell_type": "code",
   "execution_count": 54,
   "metadata": {},
   "outputs": [
    {
     "data": {
      "text/html": [
       "<div>\n",
       "<style scoped>\n",
       "    .dataframe tbody tr th:only-of-type {\n",
       "        vertical-align: middle;\n",
       "    }\n",
       "\n",
       "    .dataframe tbody tr th {\n",
       "        vertical-align: top;\n",
       "    }\n",
       "\n",
       "    .dataframe thead th {\n",
       "        text-align: right;\n",
       "    }\n",
       "</style>\n",
       "<table border=\"1\" class=\"dataframe\">\n",
       "  <thead>\n",
       "    <tr style=\"text-align: right;\">\n",
       "      <th></th>\n",
       "      <th>lanzamiento</th>\n",
       "      <th>recaudacion</th>\n",
       "      <th>espectadores</th>\n",
       "      <th>Ingreso_por_espectador</th>\n",
       "    </tr>\n",
       "  </thead>\n",
       "  <tbody>\n",
       "    <tr>\n",
       "      <th>Toy Story 4</th>\n",
       "      <td>2019</td>\n",
       "      <td>1073</td>\n",
       "      <td>74.91</td>\n",
       "      <td>14.323855</td>\n",
       "    </tr>\n",
       "    <tr>\n",
       "      <th>Monsters University</th>\n",
       "      <td>2013</td>\n",
       "      <td>744</td>\n",
       "      <td>54.74</td>\n",
       "      <td>13.591524</td>\n",
       "    </tr>\n",
       "    <tr>\n",
       "      <th>Casino Royale</th>\n",
       "      <td>2009</td>\n",
       "      <td>735</td>\n",
       "      <td>54.34</td>\n",
       "      <td>13.525948</td>\n",
       "    </tr>\n",
       "    <tr>\n",
       "      <th>Buscando a Dory</th>\n",
       "      <td>2016</td>\n",
       "      <td>1029</td>\n",
       "      <td>76.72</td>\n",
       "      <td>13.412409</td>\n",
       "    </tr>\n",
       "    <tr>\n",
       "      <th>Los Increíbles 2</th>\n",
       "      <td>2018</td>\n",
       "      <td>1242</td>\n",
       "      <td>93.42</td>\n",
       "      <td>13.294798</td>\n",
       "    </tr>\n",
       "    <tr>\n",
       "      <th>Toy Story 3</th>\n",
       "      <td>2010</td>\n",
       "      <td>1067</td>\n",
       "      <td>81.35</td>\n",
       "      <td>13.116165</td>\n",
       "    </tr>\n",
       "    <tr>\n",
       "      <th>Coco</th>\n",
       "      <td>2017</td>\n",
       "      <td>807</td>\n",
       "      <td>62.75</td>\n",
       "      <td>12.860558</td>\n",
       "    </tr>\n",
       "    <tr>\n",
       "      <th>Inside Out</th>\n",
       "      <td>2015</td>\n",
       "      <td>857</td>\n",
       "      <td>68.27</td>\n",
       "      <td>12.553098</td>\n",
       "    </tr>\n",
       "  </tbody>\n",
       "</table>\n",
       "</div>"
      ],
      "text/plain": [
       "                     lanzamiento  recaudacion  espectadores  \\\n",
       "Toy Story 4                 2019         1073         74.91   \n",
       "Monsters University         2013          744         54.74   \n",
       "Casino Royale               2009          735         54.34   \n",
       "Buscando a Dory             2016         1029         76.72   \n",
       "Los Increíbles 2            2018         1242         93.42   \n",
       "Toy Story 3                 2010         1067         81.35   \n",
       "Coco                        2017          807         62.75   \n",
       "Inside Out                  2015          857         68.27   \n",
       "\n",
       "                     Ingreso_por_espectador  \n",
       "Toy Story 4                       14.323855  \n",
       "Monsters University               13.591524  \n",
       "Casino Royale                     13.525948  \n",
       "Buscando a Dory                   13.412409  \n",
       "Los Increíbles 2                  13.294798  \n",
       "Toy Story 3                       13.116165  \n",
       "Coco                              12.860558  \n",
       "Inside Out                        12.553098  "
      ]
     },
     "execution_count": 54,
     "metadata": {},
     "output_type": "execute_result"
    }
   ],
   "source": [
    "df_ordenado.sort_values(by = \"Ingreso_por_espectador\", ascending = False) ##ordemamos el data frma por ingreso de espectador de mayor a menor"
   ]
  },
  {
   "cell_type": "code",
   "execution_count": 58,
   "metadata": {},
   "outputs": [
    {
     "data": {
      "text/html": [
       "<div>\n",
       "<style scoped>\n",
       "    .dataframe tbody tr th:only-of-type {\n",
       "        vertical-align: middle;\n",
       "    }\n",
       "\n",
       "    .dataframe tbody tr th {\n",
       "        vertical-align: top;\n",
       "    }\n",
       "\n",
       "    .dataframe thead th {\n",
       "        text-align: right;\n",
       "    }\n",
       "</style>\n",
       "<table border=\"1\" class=\"dataframe\">\n",
       "  <thead>\n",
       "    <tr style=\"text-align: right;\">\n",
       "      <th></th>\n",
       "      <th>lanzamiento</th>\n",
       "      <th>recaudacion</th>\n",
       "      <th>espectadores</th>\n",
       "      <th>Ingreso_por_espectador</th>\n",
       "      <th>fecha_lanzamiento</th>\n",
       "    </tr>\n",
       "  </thead>\n",
       "  <tbody>\n",
       "    <tr>\n",
       "      <th>Casino Royale</th>\n",
       "      <td>2006.0</td>\n",
       "      <td>735.0</td>\n",
       "      <td>54.34</td>\n",
       "      <td>13.525948</td>\n",
       "      <td>2006.0</td>\n",
       "    </tr>\n",
       "    <tr>\n",
       "      <th>Toy Story 3</th>\n",
       "      <td>2010.0</td>\n",
       "      <td>1067.0</td>\n",
       "      <td>81.35</td>\n",
       "      <td>13.116165</td>\n",
       "      <td>NaN</td>\n",
       "    </tr>\n",
       "    <tr>\n",
       "      <th>Monsters University</th>\n",
       "      <td>2013.0</td>\n",
       "      <td>744.0</td>\n",
       "      <td>54.74</td>\n",
       "      <td>13.591524</td>\n",
       "      <td>NaN</td>\n",
       "    </tr>\n",
       "    <tr>\n",
       "      <th>Inside Out</th>\n",
       "      <td>2015.0</td>\n",
       "      <td>857.0</td>\n",
       "      <td>68.27</td>\n",
       "      <td>12.553098</td>\n",
       "      <td>NaN</td>\n",
       "    </tr>\n",
       "    <tr>\n",
       "      <th>Buscando a Dory</th>\n",
       "      <td>2016.0</td>\n",
       "      <td>1029.0</td>\n",
       "      <td>76.72</td>\n",
       "      <td>13.412409</td>\n",
       "      <td>NaN</td>\n",
       "    </tr>\n",
       "    <tr>\n",
       "      <th>Coco</th>\n",
       "      <td>2017.0</td>\n",
       "      <td>807.0</td>\n",
       "      <td>62.75</td>\n",
       "      <td>12.860558</td>\n",
       "      <td>NaN</td>\n",
       "    </tr>\n",
       "    <tr>\n",
       "      <th>Los Increíbles 2</th>\n",
       "      <td>2018.0</td>\n",
       "      <td>1242.0</td>\n",
       "      <td>93.42</td>\n",
       "      <td>13.294798</td>\n",
       "      <td>NaN</td>\n",
       "    </tr>\n",
       "    <tr>\n",
       "      <th>Toy Story 4</th>\n",
       "      <td>2014.0</td>\n",
       "      <td>1073.0</td>\n",
       "      <td>74.91</td>\n",
       "      <td>14.323855</td>\n",
       "      <td>2014.0</td>\n",
       "    </tr>\n",
       "    <tr>\n",
       "      <th>Up</th>\n",
       "      <td>2006.0</td>\n",
       "      <td>NaN</td>\n",
       "      <td>NaN</td>\n",
       "      <td>NaN</td>\n",
       "      <td>NaN</td>\n",
       "    </tr>\n",
       "  </tbody>\n",
       "</table>\n",
       "</div>"
      ],
      "text/plain": [
       "                     lanzamiento  recaudacion  espectadores  \\\n",
       "Casino Royale             2006.0        735.0         54.34   \n",
       "Toy Story 3               2010.0       1067.0         81.35   \n",
       "Monsters University       2013.0        744.0         54.74   \n",
       "Inside Out                2015.0        857.0         68.27   \n",
       "Buscando a Dory           2016.0       1029.0         76.72   \n",
       "Coco                      2017.0        807.0         62.75   \n",
       "Los Increíbles 2          2018.0       1242.0         93.42   \n",
       "Toy Story 4               2014.0       1073.0         74.91   \n",
       "Up                        2006.0          NaN           NaN   \n",
       "\n",
       "                     Ingreso_por_espectador  fecha_lanzamiento  \n",
       "Casino Royale                     13.525948             2006.0  \n",
       "Toy Story 3                       13.116165                NaN  \n",
       "Monsters University               13.591524                NaN  \n",
       "Inside Out                        12.553098                NaN  \n",
       "Buscando a Dory                   13.412409                NaN  \n",
       "Coco                              12.860558                NaN  \n",
       "Los Increíbles 2                  13.294798                NaN  \n",
       "Toy Story 4                       14.323855             2014.0  \n",
       "Up                                      NaN                NaN  "
      ]
     },
     "execution_count": 58,
     "metadata": {},
     "output_type": "execute_result"
    }
   ],
   "source": [
    "df_ordenado.loc[\"Toy Story 4\",\"lanzamiento\"] = 2014\n",
    "df_ordenado.loc[\"Casino Royale\",lanzamiento\"] = 2006\n",
    "df_ordenado.loc[\"Monsters University\",\"recaudacion\"] = 744 ## mismo metodo pero en dataframe volvemos a modificar los cambios ##no lo entiendo\n",
    "df_ordenado"
   ]
  },
  {
   "cell_type": "markdown",
   "metadata": {},
   "source": []
  }
 ],
 "metadata": {
  "kernelspec": {
   "display_name": "Python 3",
   "language": "python",
   "name": "python3"
  },
  "language_info": {
   "codemirror_mode": {
    "name": "ipython",
    "version": 3
   },
   "file_extension": ".py",
   "mimetype": "text/x-python",
   "name": "python",
   "nbconvert_exporter": "python",
   "pygments_lexer": "ipython3",
   "version": "3.11.3"
  }
 },
 "nbformat": 4,
 "nbformat_minor": 2
}
