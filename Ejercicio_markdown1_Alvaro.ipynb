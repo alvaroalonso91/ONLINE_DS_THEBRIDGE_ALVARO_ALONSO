{
 "cells": [
  {
   "attachments": {
    "th.jpg": {
     "image/jpeg": "[encoded data removed]"
    }
   },
   "cell_type": "markdown",
   "metadata": {},
   "source": [
    "## Aptitudes de data science \n",
    "**Lo mas importante**  \n",
    "* Matematicas  \n",
    "* Python  \n",
    "* SQL  \n",
    "\n",
    "\n",
    " ![th.jpg](attachment:th.jpg)\n",
    "\n",
    "\n",
    "\n",
    "Otro tema importante es el *Bussines intelligence*   \n",
    "Si tienes dudas puedes escribirme a: jaime.gonzalez@thebridge.com   \n",
    "Y en esta pagina se aprende micho de machine learning: [**pagina con ML**](https://www.kaggle.com)   \n",
    "\n",
    "\n",
    "$\\sqrt{3x-1} + (1 + x)^2 $\n",
    "\n",
    "\n"
   ]
  }
 ],
 "metadata": {
  "kernelspec": {
   "display_name": "Python 3",
   "language": "python",
   "name": "python3"
  },
  "language_info": {
   "name": "python",
   "version": "3.11.3"
  }
 },
 "nbformat": 4,
 "nbformat_minor": 2
}
