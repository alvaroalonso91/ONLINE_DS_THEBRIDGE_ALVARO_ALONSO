{
 "cells": [
  {
   "cell_type": "code",
   "execution_count": 2,
   "metadata": {},
   "outputs": [
    {
     "ename": "SyntaxError",
     "evalue": "invalid syntax (1175152067.py, line 3)",
     "output_type": "error",
     "traceback": [
      "\u001b[1;36m  Cell \u001b[1;32mIn[2], line 3\u001b[1;36m\u001b[0m\n\u001b[1;33m    nombre_apellido = nombre + \" \" apellido\u001b[0m\n\u001b[1;37m                                   ^\u001b[0m\n\u001b[1;31mSyntaxError\u001b[0m\u001b[1;31m:\u001b[0m invalid syntax\n"
     ]
    }
   ],
   "source": [
    "nombre = \"Alvaro\"\n",
    "apellido = \"Alonso\"\n",
    "nombre_apellido = nombre + \" \" apellido\n",
    "print(\"Bienvenido\",nombre_apellido + 'Mucha suerte!')"
   ]
  },
  {
   "cell_type": "code",
   "execution_count": null,
   "metadata": {},
   "outputs": [],
   "source": [
    "def saludo():\n",
    "    print(\"Hola\")\n",
    "\n",
    "\n",
    "number1 = int(input(\"Ingresa un numero\"))\n",
    "number2 = int(input(\"Ingresa otro numero\"))\n",
    "\n",
    "eleccion = 0\n",
    "while eleccion != 4:\n",
    "    print(\"\"\"\n",
    "    Indique la operacion a realizar \n",
    "          1) Sumar\n",
    "          2) Restar\n",
    "          3) Multiplicar\n",
    "          4) Dividir\n",
    "          \"\"\")\n",
    "    eleccion = int(input())\n",
    "    if eleccion == 1:\n",
    "        print(\" \")\n",
    "        print(\"Resultado: \", number1,\"+\",number2, \"=\",number1 + number2)\n",
    "    if eleccion == 2:\n",
    "       print(\" \")\n",
    "       print(\"Resultado: \", number1,\"-\",number2, \"=\",number1 + number2)\n",
    "    if eleccion == 3:\n",
    "       print(\" \")\n",
    "       print(\"Resultado: \", number1,\"*\",number2, \"=\",number1 + number2)     \n",
    "    if eleccion == 4:\n",
    "       print(\" \")\n",
    "       print(\"Resultado: \", number1,\"/\",number2, \"=\",number1 + number2)    \n",
    "       "
   ]
  },
  {
   "cell_type": "code",
   "execution_count": null,
   "metadata": {},
   "outputs": [],
   "source": []
  }
 ],
 "metadata": {
  "kernelspec": {
   "display_name": "Python 3",
   "language": "python",
   "name": "python3"
  },
  "language_info": {
   "codemirror_mode": {
    "name": "ipython",
    "version": 3
   },
   "file_extension": ".py",
   "mimetype": "text/x-python",
   "name": "python",
   "nbconvert_exporter": "python",
   "pygments_lexer": "ipython3",
   "version": "3.11.3"
  }
 },
 "nbformat": 4,
 "nbformat_minor": 2
}
