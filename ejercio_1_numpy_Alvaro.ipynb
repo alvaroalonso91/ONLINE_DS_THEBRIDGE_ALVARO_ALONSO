{
 "cells": [
  {
   "cell_type": "code",
   "execution_count": 10,
   "metadata": {},
   "outputs": [],
   "source": [
    "alumnos_cant_dulces = {\n",
    "    \"Rafa\" : [6,5,3,1],\n",
    "    \"Nacho\" : [3,6,2,2],\n",
    "    \"Clara\" : [3,4,3,1]\n",
    "} ##creacion del diccionario con las preferencias"
   ]
  },
  {
   "cell_type": "code",
   "execution_count": 11,
   "metadata": {},
   "outputs": [
    {
     "name": "stdout",
     "output_type": "stream",
     "text": [
      "{'Rafa': [6, 5, 3, 1], 'Nacho': [3, 6, 2, 2], 'Clara': [3, 4, 3, 1]}\n"
     ]
    }
   ],
   "source": [
    "print(alumnos_cant_dulces) ##comprobamos el diccionario"
   ]
  },
  {
   "cell_type": "code",
   "execution_count": 12,
   "metadata": {},
   "outputs": [],
   "source": [
    "import numpy as np ##invocamos numpy\n"
   ]
  },
  {
   "cell_type": "code",
   "execution_count": 13,
   "metadata": {},
   "outputs": [],
   "source": [
    "matriz = [[1.5,2,5,16],\n",
    "           [1,2.5,4.5,17]] #creamos matriz con los precios de Manolo bakes y Starbucks"
   ]
  },
  {
   "cell_type": "code",
   "execution_count": 14,
   "metadata": {},
   "outputs": [],
   "source": [
    " = np.array(matriz) ##convertimos matriz en np matriz_np"
   ]
  },
  {
   "cell_type": "code",
   "execution_count": 17,
   "metadata": {},
   "outputs": [],
   "source": [
    "matriz_preferencia_alumnos = np.array(alumnos_cant_dulces) ##transformamos diccionario en matriz"
   ]
  },
  {
   "cell_type": "code",
   "execution_count": 18,
   "metadata": {},
   "outputs": [
    {
     "ename": "TypeError",
     "evalue": "unsupported operand type(s) for *: 'dict' and 'float'",
     "output_type": "error",
     "traceback": [
      "\u001b[1;31m---------------------------------------------------------------------------\u001b[0m",
      "\u001b[1;31mTypeError\u001b[0m                                 Traceback (most recent call last)",
      "\u001b[1;32mUntitled-4.ipynb Cell 7\u001b[0m line \u001b[0;36m1\n\u001b[1;32m----> <a href='vscode-notebook-cell:Untitled-4.ipynb?jupyter-notebook#X12sdW50aXRsZWQ%3D?line=0'>1</a>\u001b[0m matriz_costes_totales \u001b[39m=\u001b[39m matriz_preferencia_alumnos\u001b[39m.\u001b[39;49mdot(matriz_np)\n",
      "\u001b[1;31mTypeError\u001b[0m: unsupported operand type(s) for *: 'dict' and 'float'"
     ]
    }
   ],
   "source": [
    "matriz_costes_totales = matriz_preferencia_alumnos.dot(matriz_np) ##problemas con los float "
   ]
  }
 ],
 "metadata": {
  "kernelspec": {
   "display_name": "Python 3",
   "language": "python",
   "name": "python3"
  },
  "language_info": {
   "codemirror_mode": {
    "name": "ipython",
    "version": 3
   },
   "file_extension": ".py",
   "mimetype": "text/x-python",
   "name": "python",
   "nbconvert_exporter": "python",
   "pygments_lexer": "ipython3",
   "version": "3.11.3"
  }
 },
 "nbformat": 4,
 "nbformat_minor": 2
}
