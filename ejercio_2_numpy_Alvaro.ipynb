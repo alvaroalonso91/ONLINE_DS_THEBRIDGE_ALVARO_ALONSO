{
 "cells": [
  {
   "cell_type": "code",
   "execution_count": 1,
   "metadata": {},
   "outputs": [],
   "source": [
    "valores_genero = {\n",
    "    \"Accion\": [1],\n",
    "    \"Aventura\" : [2],\n",
    "    \"Animacion\" : [3],\n",
    "    \"Comedia\" : [4],\n",
    "    \"Romance\" : [5]\n",
    "} ##asignamos valores a los generos"
   ]
  },
  {
   "cell_type": "code",
   "execution_count": 7,
   "metadata": {},
   "outputs": [
    {
     "name": "stdout",
     "output_type": "stream",
     "text": [
      "5.385164807134504\n",
      "2.0\n",
      "2.23606797749979\n",
      "5.830951894845301\n"
     ]
    }
   ],
   "source": [
    "##MATRIZ ARRAY \n",
    "import numpy as np\n",
    "matriz_Toy_story = np.array([2,3,4])\n",
    "matriz_jumanji = np.array([2])\n",
    "matriz_Mortal_kombat = np.array([1,2])\n",
    "matriz_Pocahontas = np.array([3,5]) ##creadas matrices con array \n",
    "\n",
    "norm_Toy = np.linalg.norm(matriz_Toy_story)\n",
    "norm_jumanji = np.linalg.norm(matriz_jumanji)\n",
    "norm_mortal = np.linalg.norm(matriz_Mortal_kombat)\n",
    "norm_poca = np.linalg.norm(matriz_Pocahontas) ##consultamos dimensin longitud y tipo \n",
    "\n",
    "\n",
    "print(norm_Toy)\n",
    "print(norm_jumanji)\n",
    "print(norm_mortal)\n",
    "print(norm_poca) ## da fallo "
   ]
  },
  {
   "cell_type": "code",
   "execution_count": null,
   "metadata": {},
   "outputs": [],
   "source": [
    "##dudas con el coseno "
   ]
  }
 ],
 "metadata": {
  "kernelspec": {
   "display_name": "Python 3",
   "language": "python",
   "name": "python3"
  },
  "language_info": {
   "codemirror_mode": {
    "name": "ipython",
    "version": 3
   },
   "file_extension": ".py",
   "mimetype": "text/x-python",
   "name": "python",
   "nbconvert_exporter": "python",
   "pygments_lexer": "ipython3",
   "version": "3.11.3"
  }
 },
 "nbformat": 4,
 "nbformat_minor": 2
}
